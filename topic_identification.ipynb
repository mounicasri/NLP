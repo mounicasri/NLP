{
 "cells": [
  {
   "cell_type": "code",
   "execution_count": 21,
   "metadata": {},
   "outputs": [
    {
     "name": "stderr",
     "output_type": "stream",
     "text": [
      "[nltk_data] Downloading package stopwords to\n",
      "[nltk_data]     C:\\Users\\Ganesh\\AppData\\Roaming\\nltk_data...\n",
      "[nltk_data]   Package stopwords is already up-to-date!\n",
      "[nltk_data] Downloading package wordnet to\n",
      "[nltk_data]     C:\\Users\\Ganesh\\AppData\\Roaming\\nltk_data...\n",
      "[nltk_data]   Package wordnet is already up-to-date!\n"
     ]
    },
    {
     "data": {
      "text/plain": [
       "True"
      ]
     },
     "execution_count": 21,
     "metadata": {},
     "output_type": "execute_result"
    }
   ],
   "source": [
    "import nltk\n",
    "nltk.download('stopwords')\n",
    "from collections import Counter\n",
    "from nltk.tokenize import word_tokenize\n",
    "from nltk.corpus import stopwords\n",
    "import os\n",
    "from nltk.stem import WordNetLemmatizer\n",
    "nltk.download(\"wordnet\")"
   ]
  },
  {
   "cell_type": "code",
   "execution_count": 32,
   "metadata": {},
   "outputs": [
    {
     "name": "stdout",
     "output_type": "stream",
     "text": [
      "Collecting python-docx\n",
      "  Downloading https://files.pythonhosted.org/packages/e4/83/c66a1934ed5ed8ab1dbb9931f1779079f8bca0f6bbc5793c06c4b5e7d671/python-docx-0.8.10.tar.gz (5.5MB)\n",
      "Requirement already satisfied: lxml>=2.3.2 in c:\\users\\ganesh\\anaconda3\\lib\\site-packages (from python-docx) (4.3.2)\n",
      "Building wheels for collected packages: python-docx\n",
      "  Building wheel for python-docx (setup.py): started\n",
      "  Building wheel for python-docx (setup.py): finished with status 'done'\n",
      "  Stored in directory: C:\\Users\\Ganesh\\AppData\\Local\\pip\\Cache\\wheels\\18\\0b\\a0\\1dd62ff812c857c9e487f27d80d53d2b40531bec1acecfa47b\n",
      "Successfully built python-docx\n",
      "Installing collected packages: python-docx\n",
      "Successfully installed python-docx-0.8.10\n",
      "Note: you may need to restart the kernel to use updated packages.\n"
     ]
    }
   ],
   "source": [
    "pip install python-docx "
   ]
  },
  {
   "cell_type": "code",
   "execution_count": 62,
   "metadata": {},
   "outputs": [
    {
     "data": {
      "text/plain": [
       "'        Machine Learning in IOT Mounicasri Valavala University of the Cumberlands         Machine Learning: According to Arthur Samuel, Machine Learning (ML) is described as “The field of study that gives computers the ability to learn without being explicitly programmed”. Tom Mitchell defined ML as \"A computer program is said to learn from experience E with respect to some class of tasks T and performance measure P, if its performance at tasks in T, as measured by P, improves with experience E.\". The machines learns from training data and create hypothesis to predict the outcome for new data samples. Machine learning serves as a branch of artificial intelligence. The two categories of algorithms are supervised and unsupervised algorithms. The outcome is continuous for supervised and discrete for unsupervised algorithms. In case of supervised algorithms, the machine is fed with training data which it uses to draw a hypothesis, this hypothesis is used to make predictions. In unsupervised learning, there is no training to the machine, the data will be given and machine classifies the data based on its features. Security in IOT: Internet of Things (IOT) is the network that connects edge devices containing sensors to processing units for data processing. IOT being a highly useful area in almost all areas today, is vulnerable many cyber threats. The different areas where IOT can be compromised are Machine to machine communication, denial of service attack, middle man attack, and selective forwarding attacks. Hence incorporating security mechanisms is crucial and new technologies are emerging in order to address these issue.   Topic: Conduct a literature review on emerging threats and challenges faced by the U.S. critical infrastructure and the application of countermeasures.  Physical Access System Security of IoT Devices using Machine Learning Techniques First, Singla & Shamra (2019) acknowledges the advancement of technology, particularly IoT, concerning how it has greatly influenced the daily lives of Americans. Besides, IoT had gained momentum in usage in the national infrastructure. Having led to a great deal of automation, advancement in intelligence systems and other technologies, security threats have sprouted, consecutively as other technologies are advancing in parallel. The authors, therefore, present the various challenges that the national infrastructure is being faced with from the IoT channel, security is one of the major concerns. Concerning security, Singla & Sharma presents various attacks such as spoofing, jamming, Denial of Service (DoS) attack, and other types of attacks to be some of the major security threats to IoT users in the United States, and therefore to the national infrastructure.\\xa0 Nonetheless, the authors comprehensively explain the architecture and the areas of application of IoT in details. The architecture is made of components which are strategically layered to provide the ideal information exchange, automation, and other services. The identified components in the architecture include devices, gateways, data processors, data warehouses, applications, and analytics tools. The identified layers, on the other hand, by the authors, include the sensors, gateways, processing layer, and the application layer in that order from bottom up. With security being a major issue of concern, Singla & Sharma and associates cover the security issues found in IoT which include vulnerabilities in software used in the IoT architecture; interception of data, DoS attacks, and other types of cyber or computer attacks.\\xa0 The authors propose a solution to the types of attacks that are directed to breach of authentication and authorization into IoT systems, which is powered by Machine Learning (ML). Via ML, techniques such as supervised learning can be executed on IoT architecture top provide a notch higher sophisticated security. Unsupervised learning techniques can also be implemented, aiming to achieve the same outcomes. Another ML approach that can be used is reinforcement learning. With these, it is possible to combat the progressive threats faced in IoT implementation now and in the future.\\xa0 When deep learning meets security issues Guan et al. (2018) first admit that among the major threats or challenges facing the national infrastructure is cybersecurity. Malware, botnets, and use of malicious code are among the deadly schemes used by adversaries on the cyberspace, which poses a great threat to security on the national infrastructure. Guan and associates propose and critically illustrate how deep learning could be used as a safeguard against the herein mentioned security threats. In malware detection, Guan et al. first evaluates other works and prior studies, which illustrate how a deep learning approach can be applied in the detection of malware. The authors then introduce a model that first studies the computer files in a given computing environment and notes various features on them. This is identified as training. To enhance the training, deep learning algorithms introduces binary classifiers, which classify the features of the files. The training is then evaluated for effectiveness. If it is found effective enough, is considered effective in detection and control of malware. The authors present a variety of models which use the same concept of training the program under deep learning before deploying it, which are developed in other studies.\\xa0 Also, Guan and associates review more approaches, some tested and others conceptualized, which are all aimed at detection of botnets via deep learning. One of the approaches covered under botnet detection is identified as Botshark, which analyzes traffic on a network to identify either centralized or peer-to-peer (P2P) botnets. This approach uses two layers, where one of them deals with the detection, and the other one focuses on extraction. The authors also cover other codes which are applicable in detection and control of the malicious code. One of the approaches that the authors cover is identified as eXpose, which implements a convolutional neural network to detect malicious URLs, registry keys, and pathways in software. This approach is found to implement the deepMLP method of detection and control.\\xa0 An Ensemble approach to Big Data Security (Cyber Security) This post first recaps on the issues of information safety, which had been experienced in the past. As Hashmani et al. (2018) put it, the safety of information was centered on the correlation designed for observation and identification of attacks. The authors also acknowledge that cyber attacks are multidimensional, which complicates the process of containing or mitigating them. The attack complexity is topped up by the difficult strategies and procedures that are difficult to accomplish. Admittedly, the traditional approaches of cybersecurity are not viable, and therefore, they cannot play any significant role in providing security to the national infrastructure.\\xa0 Typically, the authors review literature in the aim of deciphering and critically illustrating the problem associated with the current big data technology in security, and to look into possible solutions that have been proposed by various scientists. The authors evaluate their approach by benchmarking the data they use using three classifiers, which are the k-nearest neighbor (KNN), the support vector machine (SVN), and the multilayer perceptron (MLP). After evaluation using these classifiers, the outcomes of each are compared to the ensemble approach of them all. From the results presented by Singla & Sharma, ensemble approach has far much better performance in developing security for Big Data than single classifiers.\\xa0 The ensemble is presented the authors as Industrial Revolution IR 4.0 Big Data and is considered an opportunity that can provide a more accurate and more reliable source of business intelligence and cybersecurity. Big data is versatile, however, which makes its processes be subjected to much compromise and reliability. The integrity of Big Data degrades accuracy in security performances too. Researchers also continue to find it challenging when it comes to achieving optimal security in big data. But, ensemble-based solutions tend to team up various strong approaches and make them stronger, therefore providing greater solutions for big data security.\\xa0  Survey on different machine learning algorithms used for security in IOT: The different attacks that can take place in IOT are denial of service attack, selective forwarding attacks, man in the middle attacks, and IOT device vulnerability threats. Machine learning uses it’s supervised and unsupervised learning approaches to address these attacks. Support Vector Machines (SVM) and Neural Networks (NN) are used to identify denial of service attack by using the collision and arrival rate. SVM is also used to counter selective forwarding attacks by using bandwidth and hop count. Artificial neural networks are used to counter man in the middle attack by using the device Id, sensor value and delay. The expected value if calculated by using neural networks and the deviation of actual value from the predicted value denotes an attack on the network. Machine learning is also used to counter attacks on edge devices and identify inclusion of any unauthorized devices.  Artificial Neural Networks: ANN is a classification algorithm which is used to classify the data samples into different classes based on their features. It mimics the neurons in brains as processing units, and synapses for data communication. The processing is divided into multiple layers, where each layer performs a particular task and the output from one layer serves as an input to next layer until the final layer is reached. All these layers are called hidden layers.  Sigmoid function is used in cost calculation for a particular data sample. Other input along with features is weights, which are given to features in each data sample, and a bias weight which is always 1 as an additional input in each processing unit. This bias unit helps to shift the sigmoid function and gives better learning scope.  The cost is calculated and minimized using algorithms like gradient descent which uses sum of squares to identify the weight which reduces the deviation of predicted value and actual value. With the inclusion of too many features, the hypothesis to calculate might grow in its exponents which impacts performance and overfitting of data. A methodology called regularization is used to reduce the parameter size, using a regularization parameter (lambda) which is set randomly. Choosing large value of lambda can cause underfitting of data. Internet of things, which became of part of life in today, is a soft target for cyber threats. Any attack on IOT can cause a significant loss to economy, personal data and communication. On the other hand machine learning, being a promising field to address problems in wide range of areas, shows a solution with different algorithms it provide. The area of focus is to apply artificial neural networks to identify the anomalies with data packets that are sent from edge devices. The challenges in implementing machine learning in IOT are the heterogeneous nature of network which includes edge devices, means of communication, type of data, and system configurations. In addition, there are large number of devices that are connected is in IOT, which makes it difficult come up with a single approach to address all these devices efficiently. Artificial neural networks (ANN) is an important area in machine learning which is used in a wide range of applications. In this scenario, ANN is used to identify healthy state of the system and its devices.  In Neural Network Approach to Forecast the State of the Internet of Things Elements, Katenko, et al., They found that introducing neural networks in IOT helps to reduce the cost of maintenance, adding probability approach to neural networks helps in determining the state of different devices in IOT. In addition to existing feature inputs, a bias term is added for every node. Bias term is nothing but an identity term, in mathematical term its value if always 1. Bias helps to shift the graphical representation from left to right, and is useful to get accurate learning results. All the different values from edge devices are considered as features, and each feature is assigned a weight. The weights are calculated using sigmoid function and cost minimizing functions such as gradient descent, conjugate gradient, BFGS and L-BFGS. Once, the weights are calculated, anomalies can be detected by comparing the predicted value and the actual outcome. The type of features that are taken into consideration can be increased and the weights can be calculated at any point of time to include new inputs. This anomaly detection will help to identify irregular inputs that might sometime result in cyber-attacks. The biggest challenge is including large number of nodes, that requires high computation power.   References Guan, Z., Bian, L., Shang, T., & Liu, J. (2018). When Machine Learning meets Security Issues: A survey. IEEE. Yadav, E. P., Mittal, E. A., & Yadav, D. H. (2018). IoT: Challenges and Issues in Indian Perspective.\\xa02018 3rd International Conference On Internet of Things: Smart Innovation and Usages (IoT-SIU). doi:10.1109/iot-siu.2018.8519869 Gurunath, R., Agarwal, M., Nandi, A., & Samanta, D. (2018). An Overview: Security Issue in IoT Network.\\xa02018 2nd International Conference on I-SMAC (IoT in Social, Mobile, Analytics and Cloud) (I-SMAC)I-SMAC (IoT in Social, Mobile, Analytics and Cloud) (I-SMAC), 2018 2nd International Conference on. doi:10.1109/i-smac.2018.8653728 Mamdouh, M., Elrukhsi, M. A., & Khattab, A. (2018). Securing the Internet of Things and Wireless Sensor Networks via Machine Learning: A Survey.\\xa02018 International Conference on Computer and Applications (ICCA). doi:10.1109/comapp.2018.8460440 Canedo, J., & Skjellum, A. (2016). Using machine learning to secure IoT systems.\\xa02016 14th Annual Conference on Privacy, Security and Trust (PST). doi:10.1109/pst.2016.7906930 Islam, K. T., Mujtaba, G., Raj, R. G., & Nweke, H. F. (2017). Handwritten digits recognition with artificial neural network.\\xa02017 International Conference on Engineering Technology and Technopreneurship (ICE2T). doi:10.1109/ice2t.2017.8215993 Hashmani, M. A., Jameel, S. M., Ibrahim, A. M., Zaffar, M., & Raza, K. (2018). An Ensemble approach to Big Data Security (Cyber Security). INTERNATIONAL JOURNAL OF ADVANCED COMPUTER SCIENCE AND APPLICATIONS, 9(9), 75-77. Singla, A. & Sharma.. (2019). Physical Access System Security of IoT Devices using Machine Learning Techniques. SSRN Electronic Journal. 10.2139/ssrn.3356785.  '"
      ]
     },
     "execution_count": 62,
     "metadata": {},
     "output_type": "execute_result"
    }
   ],
   "source": [
    "from io import StringIO\n",
    "from docx import Document\n",
    "article_text=\"\"\n",
    "doc = Document(\"..\\\\ML in IOT.docx\")\n",
    "\n",
    "\n",
    "\n",
    "article = []\n",
    "for docpara in doc.paragraphs:\n",
    "    article.append(docpara.text)\n",
    "article_txt = ' '.join(article)\n",
    "article_txt\n"
   ]
  },
  {
   "cell_type": "code",
   "execution_count": 63,
   "metadata": {},
   "outputs": [
    {
     "data": {
      "text/plain": [
       "['Machine', 'Learning', 'in', 'IOT', 'Mounicasri']"
      ]
     },
     "execution_count": 63,
     "metadata": {},
     "output_type": "execute_result"
    }
   ],
   "source": [
    "article_tokens = word_tokenize(article_txt)\n",
    "article_tokens[0:5]"
   ]
  },
  {
   "cell_type": "code",
   "execution_count": 64,
   "metadata": {},
   "outputs": [
    {
     "data": {
      "text/plain": [
       "['machine',\n",
       " 'learning',\n",
       " 'in',\n",
       " 'iot',\n",
       " 'mounicasri',\n",
       " 'valavala',\n",
       " 'university',\n",
       " 'of',\n",
       " 'the',\n",
       " 'cumberlands']"
      ]
     },
     "execution_count": 64,
     "metadata": {},
     "output_type": "execute_result"
    }
   ],
   "source": [
    "article_token_lower = [t.lower() for t in article_tokens]\n",
    "article_token_lower[0:10]"
   ]
  },
  {
   "cell_type": "code",
   "execution_count": 65,
   "metadata": {},
   "outputs": [
    {
     "data": {
      "text/plain": [
       "['machine',\n",
       " 'learning',\n",
       " 'in',\n",
       " 'iot',\n",
       " 'mounicasri',\n",
       " 'valavala',\n",
       " 'university',\n",
       " 'of',\n",
       " 'the',\n",
       " 'cumberlands']"
      ]
     },
     "execution_count": 65,
     "metadata": {},
     "output_type": "execute_result"
    }
   ],
   "source": [
    "article_token_lower_alpha = [t for t in article_token_lower if t.isalpha()]\n",
    "article_token_lower_alpha[0:10]"
   ]
  },
  {
   "cell_type": "code",
   "execution_count": 66,
   "metadata": {},
   "outputs": [
    {
     "data": {
      "text/plain": [
       "['machine',\n",
       " 'learning',\n",
       " 'iot',\n",
       " 'mounicasri',\n",
       " 'valavala',\n",
       " 'university',\n",
       " 'cumberlands',\n",
       " 'machine',\n",
       " 'learning',\n",
       " 'according']"
      ]
     },
     "execution_count": 66,
     "metadata": {},
     "output_type": "execute_result"
    }
   ],
   "source": [
    "article_token_lower_alpha_stop = [t for t in article_token_lower_alpha if t not in stopwords.words('english')]\n",
    "article_token_lower_alpha_stop[0:10]"
   ]
  },
  {
   "cell_type": "code",
   "execution_count": 67,
   "metadata": {},
   "outputs": [
    {
     "data": {
      "text/plain": [
       "['machine',\n",
       " 'learning',\n",
       " 'iot',\n",
       " 'mounicasri',\n",
       " 'valavala',\n",
       " 'university',\n",
       " 'cumberland',\n",
       " 'machine',\n",
       " 'learning',\n",
       " 'according']"
      ]
     },
     "execution_count": 67,
     "metadata": {},
     "output_type": "execute_result"
    }
   ],
   "source": [
    "word_lemmatizer = WordNetLemmatizer()\n",
    "article_token_lower_alpha_stop_lemma = [word_lemmatizer.lemmatize(t) for t in article_token_lower_alpha_stop]\n",
    "article_token_lower_alpha_stop_lemma[0:10]"
   ]
  },
  {
   "cell_type": "code",
   "execution_count": 68,
   "metadata": {},
   "outputs": [
    {
     "data": {
      "text/plain": [
       "[('iot', 30),\n",
       " ('learning', 29),\n",
       " ('data', 28),\n",
       " ('security', 28),\n",
       " ('machine', 24)]"
      ]
     },
     "execution_count": 68,
     "metadata": {},
     "output_type": "execute_result"
    }
   ],
   "source": [
    "count = Counter(article_token_lower_alpha_stop_lemma)\n",
    "count.most_common(5)"
   ]
  },
  {
   "cell_type": "code",
   "execution_count": null,
   "metadata": {},
   "outputs": [],
   "source": []
  },
  {
   "cell_type": "code",
   "execution_count": null,
   "metadata": {},
   "outputs": [],
   "source": []
  }
 ],
 "metadata": {
  "kernelspec": {
   "display_name": "Python 3",
   "language": "python",
   "name": "python3"
  },
  "language_info": {
   "codemirror_mode": {
    "name": "ipython",
    "version": 3
   },
   "file_extension": ".py",
   "mimetype": "text/x-python",
   "name": "python",
   "nbconvert_exporter": "python",
   "pygments_lexer": "ipython3",
   "version": "3.7.3"
  }
 },
 "nbformat": 4,
 "nbformat_minor": 2
}
